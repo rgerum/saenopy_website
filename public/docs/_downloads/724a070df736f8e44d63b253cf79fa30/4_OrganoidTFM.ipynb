{
  "cells": [
    {
      "cell_type": "markdown",
      "metadata": {},
      "source": [
        "\n# Multicellular TFM (intestinal organoids)\n\nThis example evaluates contractile forces of an individual intestinal organoid embedded in 1.2mg/ml collagen imaged with confocal reflection microscopy. \nThe relaxed stacks were recorded after Triton x-100 treatment. We evaluate the contraction between ~23h in collagen compared \nto the state after drug relaxation (indicated at the end of the video). This example can also be evaluated with the graphical user interface.\n\n .. figure:: ../images/examples/organoid_tfm/organoid.gif\n    :scale: 50%\n    :align: center\n"
      ]
    },
    {
      "cell_type": "code",
      "execution_count": null,
      "metadata": {
        "collapsed": false
      },
      "outputs": [],
      "source": [
        "import saenopy"
      ]
    },
    {
      "cell_type": "markdown",
      "metadata": {},
      "source": [
        "## Downloading the example data files\nAn individual intestinal organoid is recorded at one positions (Pos07) in collagen 1.2 mg/ml.  \nImages are recorded in confocal reflection channel (ch00) after ~23h in collagen (t50) and after drug relaxation\napprox. 2 hours later (t6).\nThe lower time index t6 is due of the start of a new image series and refers to the image AFTER relaxation. \nThe stack has 52 z positions (z00-z51). T\n\n::\n\n   4_OrganoidTFM\n   \u251c\u2500\u2500 Pos007_S001_t50_z00_ch00.tif\n   \u251c\u2500\u2500 Pos007_S001_t50_z01_ch00.tif\n   \u251c\u2500\u2500 Pos007_S001_t50_z02_ch00.tif\n   \u251c\u2500\u2500 ...\n   \u251c\u2500\u2500 Pos007_S001_t6_z00_ch00.tif\n   \u251c\u2500\u2500 Pos007_S001_t6_z01_ch00.tif\n   \u251c\u2500\u2500 Pos007_S001_t6_z02_ch00.tif\n   \u2514\u2500\u2500 ...\n\n\n"
      ]
    },
    {
      "cell_type": "code",
      "execution_count": null,
      "metadata": {
        "collapsed": false
      },
      "outputs": [],
      "source": [
        "# download the data\nsaenopy.load_example(\"OrganoidTFM\")"
      ]
    },
    {
      "cell_type": "markdown",
      "metadata": {},
      "source": [
        "## Loading the Stacks\n\nSaenopy is very flexible in loading stacks from any filename structure.\nHere we do not have multiple positions, so we do not need to use and asterisk * for batch processing.\nWe do not have multiple channels, so we do not need a channel placeholder.\nWe replace the number of the z slice \"z00\" with a z placeholder \"z{z}\" to indicate that this number refers to the\nz slice. We do the same for the deformed state and for the reference stack.\n\n"
      ]
    },
    {
      "cell_type": "code",
      "execution_count": null,
      "metadata": {
        "collapsed": false
      },
      "outputs": [],
      "source": [
        "# load the relaxed and the contracted stack\n# {z} is the placeholder for the z stack\n# {c} is the placeholder for the channels\n# {t} is the placeholder for the time points\nresults = saenopy.get_stacks(\n    '4_OrganoidTFM/Pos007_S001_t50_z{z}_ch00.tif',\n    reference_stack='4_OrganoidTFM/Pos007_S001_t6_z{z}_ch00.tif',\n    output_path='4_OrganoidTFM/example_output',\n    voxel_size=[1.444, 1.444, 1.976])"
      ]
    },
    {
      "cell_type": "markdown",
      "metadata": {},
      "source": [
        "## Detecting the Deformations\nSaenopy uses 3D Particle Image Velocimetry (PIV) with the following parameters \nto calculate matrix deformations between the deformed and relaxed state. \n\n\n+------------------+-------+\n| Piv Parameter    | Value |\n+==================+=======+\n| element_size     |    30 |\n+------------------+-------+\n| window_size      |    40 |\n+------------------+-------+\n| signal_to_noise  |   1.3 |\n+------------------+-------+\n| drift_correction | True  |\n+------------------+-------+\n\n\n"
      ]
    },
    {
      "cell_type": "code",
      "execution_count": null,
      "metadata": {
        "collapsed": false
      },
      "outputs": [],
      "source": [
        "# define the parameters for the piv deformation detection\npiv_parameters = {'element_size': 30.0, 'window_size': 40.0, 'signal_to_noise': 1.3, 'drift_correction': True}\n\n\n# iterate over all the results objects\nfor result in results:\n    # set the parameters\n    result.piv_parameters = piv_parameters\n    # get count\n    count = len(result.stacks)\n    if result.stack_reference is None:\n        count -= 1\n    # iterate over all stack pairs\n    for i in range(count):\n        # get two consecutive stacks\n        if result.stack_reference is None:\n            stack1, stack2 = result.stacks[i], result.stacks[i + 1]\n        # or reference stack and one from the list\n        else:\n            stack1, stack2 = result.stack_reference, result.stacks[i]\n        # and calculate the displacement between them\n        result.mesh_piv[i] = saenopy.get_displacements_from_stacks(stack1, stack2,\n                                                                   piv_parameters[\"window_size\"],\n                                                                   piv_parameters[\"element_size\"],\n                                                                   piv_parameters[\"signal_to_noise\"],\n                                                                   piv_parameters[\"drift_correction\"])\n    # save the displacements\n    result.save()"
      ]
    },
    {
      "cell_type": "markdown",
      "metadata": {},
      "source": [
        "## Generating the Finite Element Mesh\nInterpolate the found deformations onto a new mesh which will be used for the regularisation. \nIn this case, we are experimental limited (due to the size, strength and spatial expansion of the organoid and our objective) and can not image the\ncomplete matrix deformation field around the organoid. To obtain higher accuracy for a cropped deformation field, \nwe perform the force reconstruction in a volume with increased z-height. \n\n+------------------+------------------+\n| Mesh Parameter   | Value            |\n+==================+==================+\n| element_size     |    30            |\n+------------------+------------------+\n| mesh_size        |  (738, 738, 738) |\n+------------------+------------------+\n| reference_stack  | 'first'          |\n+------------------+------------------+\n\n\n"
      ]
    },
    {
      "cell_type": "code",
      "execution_count": null,
      "metadata": {
        "collapsed": false
      },
      "outputs": [],
      "source": [
        "# define the parameters to generate the solver mesh and interpolate the piv mesh onto it\nmesh_parameters = {'reference_stack': 'first', 'element_size': 30, 'mesh_size': (738, 738, 738)}\n\n# iterate over all the results objects\nfor result in results:\n    # correct for the reference state\n    displacement_list = saenopy.subtract_reference_state(result.mesh_piv, mesh_parameters[\"reference_stack\"])\n    # set the parameters\n    result.mesh_parameters = mesh_parameters\n    # iterate over all stack pairs\n    for i in range(len(result.mesh_piv)):\n        # and create the interpolated solver mesh\n        result.solvers[i] = saenopy.interpolate_mesh(result.mesh_piv[i], displacement_list[i], mesh_parameters)\n    # save the meshes\n    result.save()"
      ]
    },
    {
      "cell_type": "markdown",
      "metadata": {},
      "source": [
        "## Calculating the Forces\nDefine the material model and run the regularisation to fit the measured deformations and get the forces. Here we define a low convergence criterion\nand let the algorithm run for the maximal amount of steps that we define to 1400. Afterwards, we can check the regularisation_results in the console or\nin the graphical user interface.\n\n+--------------------+---------+\n| Material Parameter | Value   |\n+====================+=========+\n| k                  |  6062   |\n+--------------------+---------+\n| d_0                | 0.0025  |\n+--------------------+---------+\n| lambda_s           |  0.0804 |\n+--------------------+---------+\n| d_s                | 0.034   |\n+--------------------+---------+\n\n+--------------------------+---------+\n| Regularisation Parameter | Value   |\n+==========================+=========+\n| alpha                    |  10**10 |\n+--------------------------+---------+\n| step_size                |    0.33 |\n+--------------------------+---------+\n| max_iterations           |   1400  |\n+--------------------------+---------+\n| rel_conv_crit            |  1e-7   |\n+--------------------------+---------+\n\n\n"
      ]
    },
    {
      "cell_type": "code",
      "execution_count": null,
      "metadata": {
        "collapsed": false
      },
      "outputs": [],
      "source": [
        "# define the parameters to generate the solver mesh and interpolate the piv mesh onto it\nmaterial_parameters = {'k': 6062.0, 'd_0': 0.0025, 'lambda_s': 0.0804, 'd_s':  0.034}\nsolve_parameters = {'alpha': 10**10, 'step_size': 0.33, 'max_iterations': 1400, 'rel_conv_crit': 1e-7}\n\n# iterate over all the results objects\nfor result in results:\n    result.material_parameters = material_parameters\n    result.solve_parameters = solve_parameters\n    for M in result.solvers:\n        # set the material model\n        M.set_material_model(saenopy.materials.SemiAffineFiberMaterial(\n            material_parameters[\"k\"],\n            material_parameters[\"d_0\"],\n            material_parameters[\"lambda_s\"],\n            material_parameters[\"d_s\"],\n        ))\n        # find the regularized force solution\n        M.solve_regularized(alpha=solve_parameters[\"alpha\"], step_size=solve_parameters[\"step_size\"],\n                            max_iterations=solve_parameters[\"max_iterations\"],\n                            rel_conv_crit=solve_parameters[\"rel_conv_crit\"], verbose=True)\n    # save the forces\n    result.save()"
      ]
    },
    {
      "cell_type": "markdown",
      "metadata": {},
      "source": [
        "## Display Results\n\nToDo\n\nThe reconstructed force field (right) generates a reconstructed deformation field (middle)\nthat recapitulates the measured matrix deformation field (left). The overall cell contractility is \ncalculated as all forcecomponents pointing to the force epicenter.\n\n\n"
      ]
    }
  ],
  "metadata": {
    "kernelspec": {
      "display_name": "Python 3",
      "language": "python",
      "name": "python3"
    },
    "language_info": {
      "codemirror_mode": {
        "name": "ipython",
        "version": 3
      },
      "file_extension": ".py",
      "mimetype": "text/x-python",
      "name": "python",
      "nbconvert_exporter": "python",
      "pygments_lexer": "ipython3",
      "version": "3.12.3"
    }
  },
  "nbformat": 4,
  "nbformat_minor": 0
}