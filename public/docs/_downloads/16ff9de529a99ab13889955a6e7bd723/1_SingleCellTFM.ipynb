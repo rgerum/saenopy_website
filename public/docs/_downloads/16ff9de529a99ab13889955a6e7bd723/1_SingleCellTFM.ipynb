{
  "cells": [
    {
      "cell_type": "markdown",
      "metadata": {},
      "source": [
        "\n\n# Classic TFM (liver fibroblasts)\n\nThis example evaluates three hepatic stellate cells in 1.2mg/ml collagen with relaxed and deformed stacks. The relaxed stacks were recorded with cytochalasin D treatment of the cells.\nThis example can also be evaluated with the graphical user interface.\n\n .. figure:: ../images/Liver_fibroblasts.png\n \n"
      ]
    },
    {
      "cell_type": "code",
      "execution_count": null,
      "metadata": {
        "collapsed": false
      },
      "outputs": [],
      "source": [
        "import saenopy"
      ]
    },
    {
      "cell_type": "markdown",
      "metadata": {},
      "source": [
        "## Downloading the example data files\nThe folder structure is as follows. There are three cells recorded at different positions in the gel (Pos004, Pos007, Pos008) and three\nchannels (ch00, ch01, ch02). The stack has 376 z positions (z000-z375). All positions are recorded once in the active\nstate (\"Deformed\") and once after relaxation with Cyto D as the reference state (\"Relaxed\").\n\n::\n\n   1_ClassicSingleCellTFM\n   \u251c\u2500\u2500 Deformed\n   \u2502   \u2514\u2500\u2500 Mark_and_Find_001\n   \u2502       \u251c\u2500\u2500 Pos004_S001_z000_ch00.tif\n   \u2502       \u251c\u2500\u2500 Pos004_S001_z000_ch01.tif\n   \u2502       \u251c\u2500\u2500 Pos004_S001_z000_ch02.tif\n   \u2502       \u251c\u2500\u2500 Pos004_S001_z001_ch02.tif\n   \u2502       \u251c\u2500\u2500 ...\n   \u2502       \u251c\u2500\u2500 Pos007_S001_z001_ch00.tif\n   \u2502       \u251c\u2500\u2500 ...\n   \u2502       \u251c\u2500\u2500 Pos008_S001_z001_ch02.tif\n   \u2502       \u2514\u2500\u2500 ...\n   \u2514\u2500\u2500 Relaxed\n       \u2514\u2500\u2500 Mark_and_Find_001\n           \u251c\u2500\u2500 Pos004_S001_z000_ch00.tif\n           \u251c\u2500\u2500 Pos004_S001_z000_ch01.tif\n           \u251c\u2500\u2500 Pos004_S001_z000_ch02.tif\n           \u251c\u2500\u2500 Pos004_S001_z001_ch02.tif\n           \u251c\u2500\u2500 ...\n           \u251c\u2500\u2500 Pos007_S001_z001_ch00.tif\n           \u251c\u2500\u2500 ...\n           \u251c\u2500\u2500 Pos008_S001_z001_ch02.tif\n           \u2514\u2500\u2500 ...\n\n\n"
      ]
    },
    {
      "cell_type": "code",
      "execution_count": null,
      "metadata": {
        "collapsed": false
      },
      "outputs": [],
      "source": [
        "# download the data\nsaenopy.load_example(\"ClassicSingleCellTFM\")"
      ]
    },
    {
      "cell_type": "markdown",
      "metadata": {},
      "source": [
        "## Loading the Stacks\n\nSaenopy is very flexible in loading stacks from any filename structure.\nHere we replace the number in the position \"Pos004\" with an asterisk \"Pos*\" to batch process all positions.\nWe replace the number of the channels \"ch00\" with a channel placeholder \"ch{c:00}\" to indicate that this refers to\nthe channels and which channel to use as the first channel where the deformations should be detected.\nWe replace the number of the z slice \"z000\" with a z placeholder \"z{z}\" to indicate that this number refers to the\nz slice. We do the same for the deformed state and for the reference stack.\n\n"
      ]
    },
    {
      "cell_type": "code",
      "execution_count": null,
      "metadata": {
        "collapsed": false
      },
      "outputs": [],
      "source": [
        "# load the relaxed and the contracted stack\n# {z} is the placeholder for the z stack\n# {c} is the placeholder for the channels\n# {t} is the placeholder for the time points\nresults = saenopy.get_stacks(\n    '1_ClassicSingleCellTFM/Deformed/Mark_and_Find_001/Pos*_S001_z{z}_ch{c:00}.tif',\n    reference_stack='1_ClassicSingleCellTFM/Relaxed/Mark_and_Find_001/Pos*_S001_z{z}_ch{c:00}.tif',\n    output_path='1_ClassicSingleCellTFM/example_output',\n    voxel_size=[0.7211, 0.7211, 0.988])"
      ]
    },
    {
      "cell_type": "markdown",
      "metadata": {},
      "source": [
        "## Detecting the Deformations\nSaenopy uses 3D Particle Image Velocimetry (PIV) with the following parameters \nto calculate matrix deformations between a deformed and relaxed state \nfor three example cells.\n\n+------------------+-------+\n| Piv Parameter    | Value |\n+==================+=======+\n| element_size     |    14 |\n+------------------+-------+\n| window_size      |    35 |\n+------------------+-------+\n| signal_to_noise  |   1.3 |\n+------------------+-------+\n| drift_correction | True  |\n+------------------+-------+\n\n\n"
      ]
    },
    {
      "cell_type": "code",
      "execution_count": null,
      "metadata": {
        "collapsed": false
      },
      "outputs": [],
      "source": [
        "# define the parameters for the piv deformation detection\npiv_parameters = {'element_size': 14.0, 'window_size': 35.0, 'signal_to_noise': 1.3, 'drift_correction': True}\n\n# iterate over all the results objects\nfor result in results:\n    # set the parameters\n    result.piv_parameters = piv_parameters\n    # get count\n    count = len(result.stacks)\n    if result.stack_reference is None:\n        count -= 1\n    # iterate over all stack pairs\n    for i in range(count):\n        # get two consecutive stacks\n        if result.stack_reference is None:\n            stack1, stack2 = result.stacks[i], result.stacks[i + 1]\n        # or reference stack and one from the list \n        else:\n            stack1, stack2 = result.stack_reference, result.stacks[i]\n        # and calculate the displacement between them\n        result.mesh_piv[i] = saenopy.get_displacements_from_stacks(stack1, stack2,\n                                                                   piv_parameters[\"window_size\"],\n                                                                   piv_parameters[\"element_size\"],\n                                                                   piv_parameters[\"signal_to_noise\"],\n                                                                   piv_parameters[\"drift_correction\"])\n    # save the displacements\n    result.save()"
      ]
    },
    {
      "cell_type": "markdown",
      "metadata": {},
      "source": [
        "## Generating the Finite Element Mesh\nInterpolate the found deformations onto a new mesh which will be used for the regularisation. We use identical element\nsize of deformation detection mesh here and keep the overall mesh size the same.\n\n+------------------+-------+\n| Mesh Parameter   | Value |\n+==================+=======+\n| element_size     |    14 |\n+------------------+-------+\n| mesh_size        | 'piv' |\n+------------------+-------+\n| reference_stack  |'first'|\n+------------------+-------+\n\n\n"
      ]
    },
    {
      "cell_type": "code",
      "execution_count": null,
      "metadata": {
        "collapsed": false
      },
      "outputs": [],
      "source": [
        "# define the parameters to generate the solver mesh and interpolate the piv mesh onto it\nmesh_parameters = {'reference_stack': 'first', 'element_size': 14.0, 'mesh_size': 'piv'}\n       \n\n# iterate over all the results objects\nfor result in results:\n    # correct for the reference state\n    displacement_list = saenopy.subtract_reference_state(result.mesh_piv, mesh_parameters[\"reference_stack\"])\n    # set the parameters\n    result.mesh_parameters = mesh_parameters\n    # iterate over all stack pairs\n    for i in range(len(result.mesh_piv)):\n        # and create the interpolated solver mesh\n        result.solvers[i] = saenopy.interpolate_mesh(result.mesh_piv[i], displacement_list[i], mesh_parameters)\n    # save the meshes\n    result.save()"
      ]
    },
    {
      "cell_type": "markdown",
      "metadata": {},
      "source": [
        "## Calculating the Forces\nDefine the material model and run the regularisation to fit the measured deformations and get the forces.\n\n+--------------------+---------+\n| Material Parameter | Value   |\n+====================+=========+\n| k                  |    6062 |\n+--------------------+---------+\n| d_0                |  0.0025 |\n+--------------------+---------+\n| lambda_s           |  0.0804 |\n+--------------------+---------+\n| d_s                |  0.034  |\n+--------------------+---------+\n\n+--------------------------+---------+\n| Regularisation Parameter | Value   |\n+==========================+=========+\n| alpha                    |  10**10 |\n+--------------------------+---------+\n| step_size                |    0.33 |\n+--------------------------+---------+\n| max_iterations           |    400  |\n+--------------------------+---------+\n| rel_conv_crit            |  0.009  |\n+--------------------------+---------+\n\n\n"
      ]
    },
    {
      "cell_type": "code",
      "execution_count": null,
      "metadata": {
        "collapsed": false
      },
      "outputs": [],
      "source": [
        "# define the parameters to generate the solver mesh and interpolate the piv mesh onto it\nmaterial_parameters = {'k': 6062.0, 'd_0': 0.0025, 'lambda_s': 0.0804, 'd_s':  0.03}\nsolve_parameters = {'alpha': 10**10, 'step_size': 0.33, 'max_iterations': 400, 'rel_conv_crit': 0.009}\n\n# iterate over all the results objects\nfor result in results:\n    result.material_parameters = material_parameters\n    result.solve_parameters = solve_parameters\n    for M in result.solvers:\n        # set the material model\n        M.set_material_model(saenopy.materials.SemiAffineFiberMaterial(\n            material_parameters[\"k\"],\n            material_parameters[\"d_0\"],\n            material_parameters[\"lambda_s\"],\n            material_parameters[\"d_s\"],\n        ))\n        # find the regularized force solution\n        M.solve_regularized(alpha=solve_parameters[\"alpha\"], step_size=solve_parameters[\"step_size\"],\n                            max_iterations=solve_parameters[\"max_iterations\"],\n                            rel_conv_crit=solve_parameters[\"rel_conv_crit\"], verbose=True)\n    # save the forces\n    result.save()"
      ]
    },
    {
      "cell_type": "markdown",
      "metadata": {},
      "source": [
        "## Display Results\n\n.. figure:: ../images/Liver_Fibroblast_workflow.png\n\nThe reconstructed force field (right) generates a reconstructed deformation field (middle)\nthat recapitulates the measured matrix deformation field (left). The overall cell contractility is \ncalculated as all forcecomponents pointing to the force epicenter.\n\n\n"
      ]
    }
  ],
  "metadata": {
    "kernelspec": {
      "display_name": "Python 3",
      "language": "python",
      "name": "python3"
    },
    "language_info": {
      "codemirror_mode": {
        "name": "ipython",
        "version": 3
      },
      "file_extension": ".py",
      "mimetype": "text/x-python",
      "name": "python",
      "nbconvert_exporter": "python",
      "pygments_lexer": "ipython3",
      "version": "3.12.3"
    }
  },
  "nbformat": 4,
  "nbformat_minor": 0
}