{
  "cells": [
    {
      "cell_type": "markdown",
      "metadata": {},
      "source": [
        "\n# Brightfield TFM & Cropped Input\n\nThis example calculates traction forces around an individual immune cell (NK92 natural killer cell)\nduring migrtion in a collagen 1.2mg/ml networks (Batch C). \n\nHere simple brightfield image stacks are used to calculate \nthe matrix deformations & forces around the cell.\n\nWe compare the contracted state with the previous time step 30 seconds earlier.\nThe cell of interest is cropped from a larger field of view. \n\nThis example can also be evaluated within the graphical user interface.\n\n\n .. figure:: ../images/BF_TFM/2D.gif\n    :scale: 100%\n    :align: center\n    \n"
      ]
    },
    {
      "cell_type": "code",
      "execution_count": null,
      "metadata": {
        "collapsed": false
      },
      "outputs": [],
      "source": [
        "import saenopy"
      ]
    },
    {
      "cell_type": "markdown",
      "metadata": {},
      "source": [
        "## Loading the Stacks\n\nSaenopy is very flexible in loading stacks from any filename structure.\nHere, we use only brightfield images without additional channels. \nWe compare the stack in the contracted state with a reference state 30 seconds earlier.\nWe load one multitiff file per stack, where each individual image corresponds to the [z] position.\nExperimentally, it can be convenient to take a larger field of view and crop it later to an area of interest.  \nFor this purpose, we use the \"crop\" parameter, which specifies the boundaries of region of intrest (in pixel). \nThe \"crop\" parameter can be set both from the user interface and from the Python code.\n\n .. figure:: ../images/BF_TFM/Crop.png \n\n\nWe load the relaxed and the contracted stack by using \nthe placeholder [z] for the z stack in mutlitiffs\n\n"
      ]
    },
    {
      "cell_type": "code",
      "execution_count": null,
      "metadata": {
        "collapsed": false
      },
      "outputs": [],
      "source": [
        "results = saenopy.get_stacks( \n    'BrightfieldNK92Data/2023_02_14_12_0920_stack.tif[z]',\n    reference_stack='BrightfieldNK92Data/2023_02_14_12_0850_stack.tif[z]',\n    output_path='BrightfieldNK92Data/example_output',\n    voxel_size=[0.15, 0.15, 2.0],\n    crop={'x': (1590, 2390), 'y': (878, 1678), 'z': (30, 90)},\n    )"
      ]
    },
    {
      "cell_type": "markdown",
      "metadata": {},
      "source": [
        "## Detecting the Deformations\nSaenopy uses 3D Particle Image Velocimetry (PIV) with the following parameters \nto calculate matrix deformations between a deformed and relaxed state.  \n\n\n\n+------------------+-------+\n| Piv Parameter    | Value |\n+==================+=======+\n| element_size     |  4.8  |\n+------------------+-------+\n| window_size      |  12.0 |\n+------------------+-------+\n| signal_to_noise  |   1.3 |\n+------------------+-------+\n| drift_correction | True  |\n+------------------+-------+\n\nSmall image features enable to measure 3D deformations from the brightfield stack \n\n.. figure:: ../images/BF_TFM/BF_scroll.gif   \n  :scale: 100%\n  :align: center\n\n\n\n"
      ]
    },
    {
      "cell_type": "code",
      "execution_count": null,
      "metadata": {
        "collapsed": false
      },
      "outputs": [],
      "source": [
        "# define the parameters for the piv deformation detection\npiv_parameters = {'element_size': 4.8, 'window_size': 12.0, 'signal_to_noise': 1.3, 'drift_correction': True}\n\n\n# iterate over all the results objects\nfor result in results:\n    # set the parameters\n    result.piv_parameters = piv_parameters\n    # get count\n    count = len(result.stacks)\n    if result.stack_reference is None:\n        count -= 1\n    # iterate over all stack pairs\n    for i in range(count):\n        # or two consecutive stacks\n        if result.stack_reference is None:\n            stack1, stack2 = result.stacks[i], result.stacks[i + 1]\n        # get both stacks, either reference stack and one from the list\n        else:\n            stack1, stack2 = result.stack_reference, result.stacks[i]\n        # and calculate the displacement between them\n        result.mesh_piv[i] = saenopy.get_displacements_from_stacks(stack1, stack2,\n                                                                   piv_parameters[\"window_size\"],\n                                                                   piv_parameters[\"element_size\"],\n                                                                   piv_parameters[\"signal_to_noise\"],\n                                                                   piv_parameters[\"drift_correction\"])\n    # save the displacements\n    result.save()"
      ]
    },
    {
      "cell_type": "markdown",
      "metadata": {},
      "source": [
        "## Generating the Finite Element Mesh\nWe interpolate the found deformations onto a new mesh which will be used for the regularisation. \nwith the following parameters.\n\n+------------------+-------+\n| Mesh Parameter   | Value |\n+==================+=======+\n| element_size     |   4.0 |\n+------------------+-------+\n| mesh_size_same   | 'piv' |\n+------------------+-------+\n| reference_stack  | 'next'|\n+------------------+-------+\n\n\n"
      ]
    },
    {
      "cell_type": "code",
      "execution_count": null,
      "metadata": {
        "collapsed": false
      },
      "outputs": [],
      "source": [
        "# define the parameters to generate the solver mesh and interpolate the piv mesh onto it\nmesh_parameters = {'reference_stack': 'next', 'element_size': 4.0, 'mesh_size': 'piv'}\n\n# iterate over all the results objects\nfor result in results:\n    # correct for the reference state\n    displacement_list = saenopy.subtract_reference_state(result.mesh_piv, mesh_parameters[\"reference_stack\"])\n    # set the parameters\n    result.mesh_parameters = mesh_parameters\n    # iterate over all stack pairs\n    for i in range(len(result.mesh_piv)):\n        # and create the interpolated solver mesh\n        result.solvers[i] = saenopy.interpolate_mesh(result.mesh_piv[i], displacement_list[i], mesh_parameters)\n    # save the meshes\n    result.save()"
      ]
    },
    {
      "cell_type": "markdown",
      "metadata": {},
      "source": [
        "## Calculating the Forces\nDefine the material model and run the regularisation to fit the measured deformations and get the forces. \n\n+--------------------+---------+\n| Material Parameter | Value   |\n+====================+=========+\n| k                  |  6062   |\n+--------------------+---------+\n| d_0                | 0.0025  |\n+--------------------+---------+\n| lambda_s           |  0.0804 |\n+--------------------+---------+\n| d_s                | 0.034   |\n+--------------------+---------+\n\n+--------------------------+---------+\n| Regularisation Parameter | Value   |\n+==========================+=========+\n| alpha                    |  10**11 |\n+--------------------------+---------+\n| step_size                |    0.33 |\n+--------------------------+---------+\n| max_iterations           |     300 |\n+--------------------------+---------+\n| rel_conv_crit            |    0.01 |\n+--------------------------+---------+\n\n\n"
      ]
    },
    {
      "cell_type": "code",
      "execution_count": null,
      "metadata": {
        "collapsed": false
      },
      "outputs": [],
      "source": [
        "# define the parameters to generate the solver mesh and interpolate the piv mesh onto it\nmaterial_parameters = {'k': 6062.0, 'd_0': 0.0025, 'lambda_s': 0.0804, 'd_s':  0.034}\nsolve_parameters = {'alpha': 10**11, 'step_size': 0.33, 'max_iterations': 300, 'rel_conv_crit': 0.01}\n\n# iterate over all the results objects\nfor result in results:\n    result.material_parameters = material_parameters\n    result.solve_parameters = solve_parameters\n    for index, M in enumerate(result.solvers):\n        # set the material model\n        M.set_material_model(saenopy.materials.SemiAffineFiberMaterial(\n            material_parameters[\"k\"],\n            material_parameters[\"d_0\"],\n            material_parameters[\"lambda_s\"],\n            material_parameters[\"d_s\"],\n        ))\n        # find the regularized force solution\n        M.solve_regularized(alpha=solve_parameters[\"alpha\"], step_size=solve_parameters[\"step_size\"],\n                            max_iterations=solve_parameters[\"max_iterations\"],\n                            rel_conv_crit=solve_parameters[\"rel_conv_crit\"], verbose=True)\n        # save the forces\n        result.save()\n        # clear the cache of the solver\n        results.clear_cache(index)"
      ]
    },
    {
      "cell_type": "markdown",
      "metadata": {},
      "source": [
        "## Display Results\n\n .. figure:: ../images/BF_TFM/Reconstruction.png \n\nThe reconstructed force field (right) generates a reconstructed deformation field (left)\nthat recapitulates the measured matrix deformation field (upper video). The overall cell contractility is \ncalculated as all force components pointing to the force epicenter.\n\n .. figure:: ../images/BF_TFM/Nans.png \n\nThe cell occupied area is omitted since the signal to noise filter replaces the limited information with Nan values (Grey Dots).\nTherefore, no additional segmentation is required. Since we are working with simple brightfield images here, we \ndo not have information below and above the cell.\n\n"
      ]
    }
  ],
  "metadata": {
    "kernelspec": {
      "display_name": "Python 3",
      "language": "python",
      "name": "python3"
    },
    "language_info": {
      "codemirror_mode": {
        "name": "ipython",
        "version": 3
      },
      "file_extension": ".py",
      "mimetype": "text/x-python",
      "name": "python",
      "nbconvert_exporter": "python",
      "pygments_lexer": "ipython3",
      "version": "3.12.3"
    }
  },
  "nbformat": 4,
  "nbformat_minor": 0
}