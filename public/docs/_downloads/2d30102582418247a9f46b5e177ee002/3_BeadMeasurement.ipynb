{
  "cells": [
    {
      "cell_type": "markdown",
      "metadata": {},
      "source": [
        "\n# Microbeads to Detect Matrix Deformations\n\nThis example calculates matrix deformations around a Human Umbilical Vein Endothelial Cells (HUVECs) that invades \nin a polyethylene glycol (PEG) hydrogel cell as measured and described in [[Jorge Barrasa-Fano et al., 2021]](https://www.sciencedirect.com/science/article/pii/S2352711021000625).                                                \nThe data is available from the authors website [here](https://www.mech.kuleuven.be/en/bme/research/mechbio/lab/tfmlab).\nImages of microbeads (channel 'ch01') between a relaxed and deformed stacks are used to calculate matrix deformations (image on the right).\n\n\n .. figure:: ../images/examples/bead_measurement/microbeads.png\n"
      ]
    },
    {
      "cell_type": "code",
      "execution_count": null,
      "metadata": {
        "collapsed": false
      },
      "outputs": [],
      "source": [
        "import saenopy"
      ]
    },
    {
      "cell_type": "markdown",
      "metadata": {},
      "source": [
        "## Loading the Stacks\n\nSaenopy is very flexible in loading stacks from any filename structure.\nWe replace the number of the channels \"ch00\" with a channel placeholder \"ch{c:01}\" to indicate that this refers to\nthe channels and which channel to use as the first channel where the deformations should be detected.\nWe replace the number of the z slice \"z000\" with a z placeholder \"z{z}\" to indicate that this number refers to the\nz slice. We do the same for the deformed state and for the reference stack.\nHere images of microbeads (channel 'ch01') are used to calculate matrix deformation.\n\n"
      ]
    },
    {
      "cell_type": "code",
      "execution_count": null,
      "metadata": {
        "collapsed": false
      },
      "outputs": [],
      "source": [
        "# load the relaxed and the contracted stack\n# {z} is the placeholder for the z stack\n# {c} is the placeholder for the channels\n# {t} is the placeholder for the time points\nresults = saenopy.get_stacks( \n    'TestDataTFMlabKULeuven\\Stressed_z{z}_ch{c:01}.tif',\n    reference_stack='TestDataTFMlabKULeuven\\Relaxed_z{z}_ch{c:01}.tif',\n    output_path='3_BeadMeasurement/example_output',\n    voxel_size=[0.567, 0.567, 0.493])"
      ]
    },
    {
      "cell_type": "markdown",
      "metadata": {},
      "source": [
        "## Detecting the Deformations\nSaenopy uses 3D Particle Image Velocimetry (PIV) with the following parameters \nto calculate matrix deformations between a deformed and relaxed state.  \n\n+------------------+-------+\n| Piv Parameter    | Value |\n+==================+=======+\n| element_size     |    5  |\n+------------------+-------+\n| window_size      |    25 |\n+------------------+-------+\n| signal_to_noise  |   1.1 |\n+------------------+-------+\n| drift_correction | True  |\n+------------------+-------+\n\n\n"
      ]
    },
    {
      "cell_type": "code",
      "execution_count": null,
      "metadata": {
        "collapsed": false
      },
      "outputs": [],
      "source": [
        "# define the parameters for the piv deformation detection\npiv_parameters = {'element_size': 5.0, 'window_size': 25.0, 'signal_to_noise': 1.1, 'drift_correction': True}\n\n\n# iterate over all the results objects\nfor result in results:\n    # set the parameters\n    result.piv_parameters = piv_parameters\n    # get count\n    count = len(result.stacks)\n    if result.stack_reference is None:\n        count -= 1\n    # iterate over all stack pairs\n    for i in range(count):\n        # get two consecutive stacks \n        if result.stack_reference is None:\n            stack1, stack2 = result.stacks[i], result.stacks[i + 1]\n        # or reference stack and one from the list\n        else:\n            stack1, stack2 = result.stack_reference, result.stacks[i]\n        # and calculate the displacement between them\n        result.mesh_piv[i] = saenopy.get_displacements_from_stacks(stack1, stack2,\n                                                                   piv_parameters[\"window_size\"],\n                                                                   piv_parameters[\"element_size\"],\n                                                                   piv_parameters[\"signal_to_noise\"],\n                                                                   piv_parameters[\"drift_correction\"])\n    # save the displacements\n    result.save()"
      ]
    }
  ],
  "metadata": {
    "kernelspec": {
      "display_name": "Python 3",
      "language": "python",
      "name": "python3"
    },
    "language_info": {
      "codemirror_mode": {
        "name": "ipython",
        "version": 3
      },
      "file_extension": ".py",
      "mimetype": "text/x-python",
      "name": "python",
      "nbconvert_exporter": "python",
      "pygments_lexer": "ipython3",
      "version": "3.12.3"
    }
  },
  "nbformat": 4,
  "nbformat_minor": 0
}